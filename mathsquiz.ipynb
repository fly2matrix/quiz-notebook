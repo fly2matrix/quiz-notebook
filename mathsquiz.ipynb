{
  "metadata": {
    "language_info": {
      "codemirror_mode": {
        "name": "python",
        "version": 3
      },
      "file_extension": ".py",
      "mimetype": "text/x-python",
      "name": "python",
      "nbconvert_exporter": "python",
      "pygments_lexer": "ipython3",
      "version": "3.8"
    },
    "kernelspec": {
      "name": "python",
      "display_name": "Python (Pyodide)",
      "language": "python"
    }
  },
  "nbformat_minor": 4,
  "nbformat": 4,
  "cells": [
    {
      "cell_type": "code",
      "source": "from itertools import product\nimport itertools  ",
      "metadata": {
        "trusted": true
      },
      "execution_count": 1,
      "outputs": []
    },
    {
      "cell_type": "markdown",
      "source": "# Step 1 : Generate permutations \n\nYou guys can implement your own logic or take leverage of existing libaries in underlying langugage.  \nPython does prdvide a library to do so.\nRemember our constraints - Repetitions are not allowed.",
      "metadata": {}
    },
    {
      "cell_type": "code",
      "source": "nums = ['3','6','5','9']\nanswer=5\npermutations = list(itertools.permutations(nums))\n#print([','.join(permutation) for permutation in permutations])",
      "metadata": {
        "trusted": true
      },
      "execution_count": 2,
      "outputs": []
    },
    {
      "cell_type": "markdown",
      "source": "# Step 2: Generate permutations of operators\n\nAgain go with simple approach and don't forget the constraint.   \nRepetitions are not allowed.",
      "metadata": {}
    },
    {
      "cell_type": "code",
      "source": "operators=['+','-','/','*']\nresult = []\nfor  c in product(operators, repeat=len(nums)-1):\n    result.append(c)\n#'print(result)",
      "metadata": {
        "trusted": true
      },
      "execution_count": 4,
      "outputs": []
    },
    {
      "cell_type": "markdown",
      "source": "# Step 3: Generate expression\nMerge above to finding and generate mathematical expressions that we can evaluate further.  \nFor evaluation of such mathematical expression we can take advantage of language built-in libraries.\n  \nWe will have answers in multiples of 4 due to associative properties.",
      "metadata": {}
    },
    {
      "cell_type": "code",
      "source": "for operand in permutations:\n    for operators in result:\n        c=\"\"\n        for x, y in zip(operand, operators):\n            c+=x+y\n        expr=c+operand[len(operand)-1]\n        ans=eval(expr)\n        if(ans==answer):\n            print(expr)\n            ",
      "metadata": {
        "trusted": true
      },
      "execution_count": 5,
      "outputs": [
        {
          "name": "stdout",
          "text": "3+6+5-9\n3+6-9+5\n3+5+6-9\n3+5-9+6\n3-9+6+5\n3-9+5+6\n6+3+5-9\n6+3-9+5\n6+5+3-9\n6+5-9+3\n6-9+3+5\n6-9+5+3\n5+3+6-9\n5-3-6+9\n5+3-9+6\n5-3+9-6\n5+6+3-9\n5-6-3+9\n5+6-9+3\n5-6+9-3\n5+9-3-6\n5-9+3+6\n5+9-6-3\n5-9+6+3\n9-3-6+5\n9-3+5-6\n9-6-3+5\n9-6+5-3\n9+5-3-6\n9+5-6-3\n",
          "output_type": "stream"
        }
      ]
    },
    {
      "cell_type": "markdown",
      "source": "# Optimization required for improving above piece of code  \n#### or provide a different way to solve it.\nSolution can be improved further. Consider optimizing associative properties.\n\n\n  A+B=B+A  \n  A\\*B=B\\*A  \n  x-A-B=x-B-A  \n  x/A/B=x/B/A  ",
      "metadata": {}
    },
    {
      "cell_type": "code",
      "source": "",
      "metadata": {},
      "execution_count": null,
      "outputs": []
    }
  ]
}
